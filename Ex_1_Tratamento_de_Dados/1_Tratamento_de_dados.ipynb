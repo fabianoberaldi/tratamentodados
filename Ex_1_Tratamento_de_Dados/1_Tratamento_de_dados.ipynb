{
 "cells": [
  {
   "cell_type": "code",
   "execution_count": 1,
   "id": "ad332e5d",
   "metadata": {},
   "outputs": [],
   "source": [
    "import pandas as pd\n",
    "import os\n",
    "import sys\n",
    "dir_current = os.getcwd()\n",
    "dir_bases = os.path.join(dir_current, 'bases')"
   ]
  },
  {
   "cell_type": "code",
   "execution_count": 2,
   "id": "275acb61",
   "metadata": {},
   "outputs": [
    {
     "name": "stdout",
     "output_type": "stream",
     "text": [
      "C:\\Users\\fabianoberaldi\\OneDrive - BRQ\\Itau\\provinha\n",
      "C:\\Users\\fabianoberaldi\\OneDrive - BRQ\\Itau\\provinha\\bases\n"
     ]
    }
   ],
   "source": [
    "print(dir_current)\n",
    "print(dir_bases)"
   ]
  },
  {
   "cell_type": "markdown",
   "id": "113b7777",
   "metadata": {},
   "source": [
    "### Importar o conjunto de dados presentes na pasta **\"bases\"**"
   ]
  },
  {
   "cell_type": "code",
   "execution_count": 3,
   "id": "20334e6d",
   "metadata": {},
   "outputs": [],
   "source": [
    "file_airbnb = os.path.join(dir_bases, 'airbnb_ny_2019.csv')\n",
    "file_map_vizinhanca = os.path.join(dir_bases,'mapeamento_vizinhanca.csv')"
   ]
  },
  {
   "cell_type": "markdown",
   "id": "7d99bfab",
   "metadata": {},
   "source": [
    "#### Obter dados Airbnb"
   ]
  },
  {
   "cell_type": "code",
   "execution_count": 4,
   "id": "2065540e",
   "metadata": {},
   "outputs": [
    {
     "data": {
      "text/html": [
       "<div>\n",
       "<style scoped>\n",
       "    .dataframe tbody tr th:only-of-type {\n",
       "        vertical-align: middle;\n",
       "    }\n",
       "\n",
       "    .dataframe tbody tr th {\n",
       "        vertical-align: top;\n",
       "    }\n",
       "\n",
       "    .dataframe thead th {\n",
       "        text-align: right;\n",
       "    }\n",
       "</style>\n",
       "<table border=\"1\" class=\"dataframe\">\n",
       "  <thead>\n",
       "    <tr style=\"text-align: right;\">\n",
       "      <th></th>\n",
       "      <th>id</th>\n",
       "      <th>name</th>\n",
       "      <th>host_id</th>\n",
       "      <th>host_name</th>\n",
       "      <th>neighbourhood</th>\n",
       "      <th>latitude</th>\n",
       "      <th>longitude</th>\n",
       "      <th>room_type</th>\n",
       "      <th>price</th>\n",
       "      <th>minimum_nights</th>\n",
       "      <th>number_of_reviews</th>\n",
       "      <th>last_review</th>\n",
       "      <th>reviews_per_month</th>\n",
       "      <th>calculated_host_listings_count</th>\n",
       "      <th>availability_365</th>\n",
       "    </tr>\n",
       "  </thead>\n",
       "  <tbody>\n",
       "    <tr>\n",
       "      <th>0</th>\n",
       "      <td>2539</td>\n",
       "      <td>Clean &amp; quiet apt home by the park</td>\n",
       "      <td>2787</td>\n",
       "      <td>John</td>\n",
       "      <td>Kensington</td>\n",
       "      <td>40.64749</td>\n",
       "      <td>-73.97237</td>\n",
       "      <td>Private room</td>\n",
       "      <td>149</td>\n",
       "      <td>1</td>\n",
       "      <td>9</td>\n",
       "      <td>2018-10-19</td>\n",
       "      <td>0.21</td>\n",
       "      <td>6</td>\n",
       "      <td>365</td>\n",
       "    </tr>\n",
       "    <tr>\n",
       "      <th>1</th>\n",
       "      <td>2595</td>\n",
       "      <td>Skylit Midtown Castle</td>\n",
       "      <td>2845</td>\n",
       "      <td>Jennifer</td>\n",
       "      <td>Midtown</td>\n",
       "      <td>40.75362</td>\n",
       "      <td>-73.98377</td>\n",
       "      <td>Entire home/apt</td>\n",
       "      <td>225</td>\n",
       "      <td>1</td>\n",
       "      <td>45</td>\n",
       "      <td>2019-05-21</td>\n",
       "      <td>0.38</td>\n",
       "      <td>2</td>\n",
       "      <td>355</td>\n",
       "    </tr>\n",
       "    <tr>\n",
       "      <th>2</th>\n",
       "      <td>3647</td>\n",
       "      <td>THE VILLAGE OF HARLEM....NEW YORK !</td>\n",
       "      <td>4632</td>\n",
       "      <td>Elisabeth</td>\n",
       "      <td>Harlem</td>\n",
       "      <td>40.80902</td>\n",
       "      <td>-73.94190</td>\n",
       "      <td>Private room</td>\n",
       "      <td>150</td>\n",
       "      <td>3</td>\n",
       "      <td>0</td>\n",
       "      <td>NaN</td>\n",
       "      <td>NaN</td>\n",
       "      <td>1</td>\n",
       "      <td>365</td>\n",
       "    </tr>\n",
       "    <tr>\n",
       "      <th>3</th>\n",
       "      <td>3831</td>\n",
       "      <td>Cozy Entire Floor of Brownstone</td>\n",
       "      <td>4869</td>\n",
       "      <td>LisaRoxanne</td>\n",
       "      <td>Clinton Hill</td>\n",
       "      <td>40.68514</td>\n",
       "      <td>-73.95976</td>\n",
       "      <td>Entire home/apt</td>\n",
       "      <td>89</td>\n",
       "      <td>1</td>\n",
       "      <td>270</td>\n",
       "      <td>2019-07-05</td>\n",
       "      <td>4.64</td>\n",
       "      <td>1</td>\n",
       "      <td>194</td>\n",
       "    </tr>\n",
       "    <tr>\n",
       "      <th>4</th>\n",
       "      <td>5022</td>\n",
       "      <td>Entire Apt: Spacious Studio/Loft by central park</td>\n",
       "      <td>7192</td>\n",
       "      <td>Laura</td>\n",
       "      <td>East Harlem</td>\n",
       "      <td>40.79851</td>\n",
       "      <td>-73.94399</td>\n",
       "      <td>Entire home/apt</td>\n",
       "      <td>80</td>\n",
       "      <td>10</td>\n",
       "      <td>9</td>\n",
       "      <td>2018-11-19</td>\n",
       "      <td>0.10</td>\n",
       "      <td>1</td>\n",
       "      <td>0</td>\n",
       "    </tr>\n",
       "  </tbody>\n",
       "</table>\n",
       "</div>"
      ],
      "text/plain": [
       "     id                                              name  host_id  \\\n",
       "0  2539                Clean & quiet apt home by the park     2787   \n",
       "1  2595                             Skylit Midtown Castle     2845   \n",
       "2  3647               THE VILLAGE OF HARLEM....NEW YORK !     4632   \n",
       "3  3831                   Cozy Entire Floor of Brownstone     4869   \n",
       "4  5022  Entire Apt: Spacious Studio/Loft by central park     7192   \n",
       "\n",
       "     host_name neighbourhood  latitude  longitude        room_type  price  \\\n",
       "0         John    Kensington  40.64749  -73.97237     Private room    149   \n",
       "1     Jennifer       Midtown  40.75362  -73.98377  Entire home/apt    225   \n",
       "2    Elisabeth        Harlem  40.80902  -73.94190     Private room    150   \n",
       "3  LisaRoxanne  Clinton Hill  40.68514  -73.95976  Entire home/apt     89   \n",
       "4        Laura   East Harlem  40.79851  -73.94399  Entire home/apt     80   \n",
       "\n",
       "   minimum_nights  number_of_reviews last_review  reviews_per_month  \\\n",
       "0               1                  9  2018-10-19               0.21   \n",
       "1               1                 45  2019-05-21               0.38   \n",
       "2               3                  0         NaN                NaN   \n",
       "3               1                270  2019-07-05               4.64   \n",
       "4              10                  9  2018-11-19               0.10   \n",
       "\n",
       "   calculated_host_listings_count  availability_365  \n",
       "0                               6               365  \n",
       "1                               2               355  \n",
       "2                               1               365  \n",
       "3                               1               194  \n",
       "4                               1                 0  "
      ]
     },
     "execution_count": 4,
     "metadata": {},
     "output_type": "execute_result"
    }
   ],
   "source": [
    "df_airbnb = pd.read_csv(file_airbnb)\n",
    "df_airbnb.head()"
   ]
  },
  {
   "cell_type": "code",
   "execution_count": 5,
   "id": "89bd5b94",
   "metadata": {},
   "outputs": [
    {
     "name": "stdout",
     "output_type": "stream",
     "text": [
      "<class 'pandas.core.frame.DataFrame'>\n",
      "RangeIndex: 49395 entries, 0 to 49394\n",
      "Data columns (total 15 columns):\n",
      " #   Column                          Non-Null Count  Dtype  \n",
      "---  ------                          --------------  -----  \n",
      " 0   id                              49395 non-null  int64  \n",
      " 1   name                            49379 non-null  object \n",
      " 2   host_id                         49395 non-null  int64  \n",
      " 3   host_name                       49373 non-null  object \n",
      " 4   neighbourhood                   49395 non-null  object \n",
      " 5   latitude                        49395 non-null  float64\n",
      " 6   longitude                       49395 non-null  float64\n",
      " 7   room_type                       49395 non-null  object \n",
      " 8   price                           49395 non-null  int64  \n",
      " 9   minimum_nights                  49395 non-null  int64  \n",
      " 10  number_of_reviews               49395 non-null  int64  \n",
      " 11  last_review                     39237 non-null  object \n",
      " 12  reviews_per_month               39237 non-null  float64\n",
      " 13  calculated_host_listings_count  49395 non-null  int64  \n",
      " 14  availability_365                49395 non-null  int64  \n",
      "dtypes: float64(3), int64(7), object(5)\n",
      "memory usage: 5.7+ MB\n"
     ]
    }
   ],
   "source": [
    "#Obter informações do DataFrame\n",
    "df_airbnb.info()"
   ]
  },
  {
   "cell_type": "markdown",
   "id": "79578785",
   "metadata": {},
   "source": [
    "##### Base Airbnb: remover linhas duplicadas"
   ]
  },
  {
   "cell_type": "code",
   "execution_count": 6,
   "id": "0ff75e9b",
   "metadata": {},
   "outputs": [
    {
     "name": "stdout",
     "output_type": "stream",
     "text": [
      "Base Airbnb -> Linhas duplicadas: 500\n"
     ]
    }
   ],
   "source": [
    "#Verificar qtd de linhas duplicadas\n",
    "print(f'Base Airbnb -> Linhas duplicadas: {df_airbnb.duplicated().sum()}')"
   ]
  },
  {
   "cell_type": "code",
   "execution_count": 7,
   "id": "322730f8",
   "metadata": {},
   "outputs": [],
   "source": [
    "#remover linhas duplicadas\n",
    "df_airbnb.drop_duplicates(inplace=True)"
   ]
  },
  {
   "cell_type": "code",
   "execution_count": 8,
   "id": "6df505be",
   "metadata": {},
   "outputs": [
    {
     "name": "stdout",
     "output_type": "stream",
     "text": [
      "Base Airbnb -> Linhas duplicadas: 0\n"
     ]
    }
   ],
   "source": [
    "#Verificar qtd de linhas duplicadas\n",
    "print(f'Base Airbnb -> Linhas duplicadas: {df_airbnb.duplicated().sum()}')"
   ]
  },
  {
   "cell_type": "markdown",
   "id": "8734e31e",
   "metadata": {},
   "source": [
    "##### Base Airbnb: remover linhas com valores nulos"
   ]
  },
  {
   "cell_type": "code",
   "execution_count": 9,
   "id": "53cecef3",
   "metadata": {},
   "outputs": [
    {
     "data": {
      "text/plain": [
       "id                                    0\n",
       "name                                 16\n",
       "host_id                               0\n",
       "host_name                            21\n",
       "neighbourhood                         0\n",
       "latitude                              0\n",
       "longitude                             0\n",
       "room_type                             0\n",
       "price                                 0\n",
       "minimum_nights                        0\n",
       "number_of_reviews                     0\n",
       "last_review                       10052\n",
       "reviews_per_month                 10052\n",
       "calculated_host_listings_count        0\n",
       "availability_365                      0\n",
       "dtype: int64"
      ]
     },
     "execution_count": 9,
     "metadata": {},
     "output_type": "execute_result"
    }
   ],
   "source": [
    "#Verificar qtd de linhas com valores nulos (nome da coluna : qtd linhas com valores nulos)\n",
    "df_airbnb.isna().sum()"
   ]
  },
  {
   "cell_type": "code",
   "execution_count": 10,
   "id": "fcd427d9",
   "metadata": {},
   "outputs": [],
   "source": [
    "#remover linhas com valores nulos\n",
    "df_airbnb.dropna(inplace=True)"
   ]
  },
  {
   "cell_type": "code",
   "execution_count": 11,
   "id": "caecc58b",
   "metadata": {},
   "outputs": [
    {
     "data": {
      "text/plain": [
       "id                                0\n",
       "name                              0\n",
       "host_id                           0\n",
       "host_name                         0\n",
       "neighbourhood                     0\n",
       "latitude                          0\n",
       "longitude                         0\n",
       "room_type                         0\n",
       "price                             0\n",
       "minimum_nights                    0\n",
       "number_of_reviews                 0\n",
       "last_review                       0\n",
       "reviews_per_month                 0\n",
       "calculated_host_listings_count    0\n",
       "availability_365                  0\n",
       "dtype: int64"
      ]
     },
     "execution_count": 11,
     "metadata": {},
     "output_type": "execute_result"
    }
   ],
   "source": [
    "#Verificar qtd de linhas com valores nulos (nome da coluna : qtd linhas com valores nulos)\n",
    "df_airbnb.isna().sum()"
   ]
  },
  {
   "cell_type": "markdown",
   "id": "f9c0cca3",
   "metadata": {},
   "source": [
    "#### Obter dados Mapeamento Vizinhança"
   ]
  },
  {
   "cell_type": "code",
   "execution_count": 12,
   "id": "7a01c1a7",
   "metadata": {},
   "outputs": [
    {
     "data": {
      "text/html": [
       "<div>\n",
       "<style scoped>\n",
       "    .dataframe tbody tr th:only-of-type {\n",
       "        vertical-align: middle;\n",
       "    }\n",
       "\n",
       "    .dataframe tbody tr th {\n",
       "        vertical-align: top;\n",
       "    }\n",
       "\n",
       "    .dataframe thead th {\n",
       "        text-align: right;\n",
       "    }\n",
       "</style>\n",
       "<table border=\"1\" class=\"dataframe\">\n",
       "  <thead>\n",
       "    <tr style=\"text-align: right;\">\n",
       "      <th></th>\n",
       "      <th>vizinhanca_grupo</th>\n",
       "      <th>vizinhanca</th>\n",
       "    </tr>\n",
       "  </thead>\n",
       "  <tbody>\n",
       "    <tr>\n",
       "      <th>0</th>\n",
       "      <td>Bronx</td>\n",
       "      <td>Schuylerville</td>\n",
       "    </tr>\n",
       "    <tr>\n",
       "      <th>1</th>\n",
       "      <td>Bronx</td>\n",
       "      <td>Parkchester</td>\n",
       "    </tr>\n",
       "    <tr>\n",
       "      <th>2</th>\n",
       "      <td>Bronx</td>\n",
       "      <td>Co-op City</td>\n",
       "    </tr>\n",
       "    <tr>\n",
       "      <th>3</th>\n",
       "      <td>Bronx</td>\n",
       "      <td>Soundview</td>\n",
       "    </tr>\n",
       "    <tr>\n",
       "      <th>4</th>\n",
       "      <td>Bronx</td>\n",
       "      <td>Williamsbridge</td>\n",
       "    </tr>\n",
       "  </tbody>\n",
       "</table>\n",
       "</div>"
      ],
      "text/plain": [
       "  vizinhanca_grupo      vizinhanca\n",
       "0            Bronx   Schuylerville\n",
       "1            Bronx     Parkchester\n",
       "2            Bronx      Co-op City\n",
       "3            Bronx       Soundview\n",
       "4            Bronx  Williamsbridge"
      ]
     },
     "execution_count": 12,
     "metadata": {},
     "output_type": "execute_result"
    }
   ],
   "source": [
    "df_vizinhanca = pd.read_csv(file_map_vizinhanca,sep=\";\")\n",
    "df_vizinhanca.head()"
   ]
  },
  {
   "cell_type": "markdown",
   "id": "56e53cb0",
   "metadata": {},
   "source": [
    "##### Base Mapeamento Vizinhança: remover linhas duplicadas"
   ]
  },
  {
   "cell_type": "code",
   "execution_count": 13,
   "id": "9f9b6dd4",
   "metadata": {},
   "outputs": [
    {
     "name": "stdout",
     "output_type": "stream",
     "text": [
      "Base Mapeamento Vizinhança -> Linhas duplicadas: 0\n"
     ]
    }
   ],
   "source": [
    "#Verificar qtd de linhas duplicadas\n",
    "print(f'Base Mapeamento Vizinhança -> Linhas duplicadas: {df_vizinhanca.duplicated().sum()}')"
   ]
  },
  {
   "cell_type": "markdown",
   "id": "4d0c3d8a",
   "metadata": {},
   "source": [
    "*Não existem linhas duplicadas neste DataFrame"
   ]
  },
  {
   "cell_type": "markdown",
   "id": "4d8a59d1",
   "metadata": {},
   "source": [
    "##### Base Mapeamento Vizinhança: remover linhas com valores nulos"
   ]
  },
  {
   "cell_type": "code",
   "execution_count": 14,
   "id": "1f53675a",
   "metadata": {},
   "outputs": [
    {
     "data": {
      "text/plain": [
       "vizinhanca_grupo    0\n",
       "vizinhanca          0\n",
       "dtype: int64"
      ]
     },
     "execution_count": 14,
     "metadata": {},
     "output_type": "execute_result"
    }
   ],
   "source": [
    "#Verificar qtd de linhas com valores nulos (nome da coluna : qtd linhas com valores nulos)\n",
    "df_vizinhanca.isna().sum()"
   ]
  },
  {
   "cell_type": "markdown",
   "id": "c4661efb",
   "metadata": {},
   "source": [
    "*Não existem linhas duplicadas neste DataFrame"
   ]
  },
  {
   "cell_type": "markdown",
   "id": "9c657cb5",
   "metadata": {},
   "source": [
    "### Juntar bases, remover colunas não desejadas e renomear coluna"
   ]
  },
  {
   "cell_type": "markdown",
   "id": "d62fcac3",
   "metadata": {},
   "source": [
    "Juntar as **bases airbnb_ny_2019** e **mapeamento_vizinhanca** através de um join (**neighbourhood** <-> **vizinhanca**)"
   ]
  },
  {
   "cell_type": "code",
   "execution_count": 15,
   "id": "13ce4b64",
   "metadata": {},
   "outputs": [],
   "source": [
    "df_join = df_airbnb.merge(df_vizinhanca, left_on='neighbourhood', right_on='vizinhanca')"
   ]
  },
  {
   "cell_type": "code",
   "execution_count": 16,
   "id": "25d59401",
   "metadata": {},
   "outputs": [
    {
     "data": {
      "text/html": [
       "<div>\n",
       "<style scoped>\n",
       "    .dataframe tbody tr th:only-of-type {\n",
       "        vertical-align: middle;\n",
       "    }\n",
       "\n",
       "    .dataframe tbody tr th {\n",
       "        vertical-align: top;\n",
       "    }\n",
       "\n",
       "    .dataframe thead th {\n",
       "        text-align: right;\n",
       "    }\n",
       "</style>\n",
       "<table border=\"1\" class=\"dataframe\">\n",
       "  <thead>\n",
       "    <tr style=\"text-align: right;\">\n",
       "      <th></th>\n",
       "      <th>id</th>\n",
       "      <th>name</th>\n",
       "      <th>host_id</th>\n",
       "      <th>host_name</th>\n",
       "      <th>neighbourhood</th>\n",
       "      <th>latitude</th>\n",
       "      <th>longitude</th>\n",
       "      <th>room_type</th>\n",
       "      <th>price</th>\n",
       "      <th>minimum_nights</th>\n",
       "      <th>number_of_reviews</th>\n",
       "      <th>last_review</th>\n",
       "      <th>reviews_per_month</th>\n",
       "      <th>calculated_host_listings_count</th>\n",
       "      <th>availability_365</th>\n",
       "      <th>vizinhanca_grupo</th>\n",
       "      <th>vizinhanca</th>\n",
       "    </tr>\n",
       "  </thead>\n",
       "  <tbody>\n",
       "    <tr>\n",
       "      <th>0</th>\n",
       "      <td>2539</td>\n",
       "      <td>Clean &amp; quiet apt home by the park</td>\n",
       "      <td>2787</td>\n",
       "      <td>John</td>\n",
       "      <td>Kensington</td>\n",
       "      <td>40.64749</td>\n",
       "      <td>-73.97237</td>\n",
       "      <td>Private room</td>\n",
       "      <td>149</td>\n",
       "      <td>1</td>\n",
       "      <td>9</td>\n",
       "      <td>2018-10-19</td>\n",
       "      <td>0.21</td>\n",
       "      <td>6</td>\n",
       "      <td>365</td>\n",
       "      <td>Brooklyn</td>\n",
       "      <td>Kensington</td>\n",
       "    </tr>\n",
       "    <tr>\n",
       "      <th>1</th>\n",
       "      <td>63546</td>\n",
       "      <td>Large and Cozy Private Bedroom</td>\n",
       "      <td>308652</td>\n",
       "      <td>Antonín</td>\n",
       "      <td>Kensington</td>\n",
       "      <td>40.64106</td>\n",
       "      <td>-73.97426</td>\n",
       "      <td>Private room</td>\n",
       "      <td>39</td>\n",
       "      <td>1</td>\n",
       "      <td>45</td>\n",
       "      <td>2019-05-16</td>\n",
       "      <td>0.46</td>\n",
       "      <td>2</td>\n",
       "      <td>365</td>\n",
       "      <td>Brooklyn</td>\n",
       "      <td>Kensington</td>\n",
       "    </tr>\n",
       "    <tr>\n",
       "      <th>2</th>\n",
       "      <td>125594</td>\n",
       "      <td>SUPER BIG AND COZY PRIVATE BEDROOM</td>\n",
       "      <td>308652</td>\n",
       "      <td>Antonín</td>\n",
       "      <td>Kensington</td>\n",
       "      <td>40.64302</td>\n",
       "      <td>-73.97255</td>\n",
       "      <td>Private room</td>\n",
       "      <td>39</td>\n",
       "      <td>1</td>\n",
       "      <td>82</td>\n",
       "      <td>2019-05-19</td>\n",
       "      <td>0.94</td>\n",
       "      <td>2</td>\n",
       "      <td>365</td>\n",
       "      <td>Brooklyn</td>\n",
       "      <td>Kensington</td>\n",
       "    </tr>\n",
       "    <tr>\n",
       "      <th>3</th>\n",
       "      <td>267652</td>\n",
       "      <td>Private clean pleasant spacious room.</td>\n",
       "      <td>164675</td>\n",
       "      <td>Janice</td>\n",
       "      <td>Kensington</td>\n",
       "      <td>40.64277</td>\n",
       "      <td>-73.97296</td>\n",
       "      <td>Private room</td>\n",
       "      <td>60</td>\n",
       "      <td>2</td>\n",
       "      <td>20</td>\n",
       "      <td>2019-01-21</td>\n",
       "      <td>0.42</td>\n",
       "      <td>1</td>\n",
       "      <td>347</td>\n",
       "      <td>Brooklyn</td>\n",
       "      <td>Kensington</td>\n",
       "    </tr>\n",
       "    <tr>\n",
       "      <th>4</th>\n",
       "      <td>282341</td>\n",
       "      <td>Kensington/Ditmas Park pied-a-terre</td>\n",
       "      <td>1471384</td>\n",
       "      <td>Dan</td>\n",
       "      <td>Kensington</td>\n",
       "      <td>40.64330</td>\n",
       "      <td>-73.97386</td>\n",
       "      <td>Entire home/apt</td>\n",
       "      <td>90</td>\n",
       "      <td>30</td>\n",
       "      <td>3</td>\n",
       "      <td>2017-07-30</td>\n",
       "      <td>0.05</td>\n",
       "      <td>1</td>\n",
       "      <td>286</td>\n",
       "      <td>Brooklyn</td>\n",
       "      <td>Kensington</td>\n",
       "    </tr>\n",
       "  </tbody>\n",
       "</table>\n",
       "</div>"
      ],
      "text/plain": [
       "       id                                   name  host_id host_name  \\\n",
       "0    2539     Clean & quiet apt home by the park     2787      John   \n",
       "1   63546         Large and Cozy Private Bedroom   308652   Antonín   \n",
       "2  125594     SUPER BIG AND COZY PRIVATE BEDROOM   308652   Antonín   \n",
       "3  267652  Private clean pleasant spacious room.   164675    Janice   \n",
       "4  282341    Kensington/Ditmas Park pied-a-terre  1471384       Dan   \n",
       "\n",
       "  neighbourhood  latitude  longitude        room_type  price  minimum_nights  \\\n",
       "0    Kensington  40.64749  -73.97237     Private room    149               1   \n",
       "1    Kensington  40.64106  -73.97426     Private room     39               1   \n",
       "2    Kensington  40.64302  -73.97255     Private room     39               1   \n",
       "3    Kensington  40.64277  -73.97296     Private room     60               2   \n",
       "4    Kensington  40.64330  -73.97386  Entire home/apt     90              30   \n",
       "\n",
       "   number_of_reviews last_review  reviews_per_month  \\\n",
       "0                  9  2018-10-19               0.21   \n",
       "1                 45  2019-05-16               0.46   \n",
       "2                 82  2019-05-19               0.94   \n",
       "3                 20  2019-01-21               0.42   \n",
       "4                  3  2017-07-30               0.05   \n",
       "\n",
       "   calculated_host_listings_count  availability_365 vizinhanca_grupo  \\\n",
       "0                               6               365         Brooklyn   \n",
       "1                               2               365         Brooklyn   \n",
       "2                               2               365         Brooklyn   \n",
       "3                               1               347         Brooklyn   \n",
       "4                               1               286         Brooklyn   \n",
       "\n",
       "   vizinhanca  \n",
       "0  Kensington  \n",
       "1  Kensington  \n",
       "2  Kensington  \n",
       "3  Kensington  \n",
       "4  Kensington  "
      ]
     },
     "execution_count": 16,
     "metadata": {},
     "output_type": "execute_result"
    }
   ],
   "source": [
    "df_join.head()"
   ]
  },
  {
   "cell_type": "markdown",
   "id": "5fb153c2",
   "metadata": {},
   "source": [
    "Remover a coluna **vizinhanca** após o join"
   ]
  },
  {
   "cell_type": "code",
   "execution_count": 17,
   "id": "acff0e64",
   "metadata": {},
   "outputs": [
    {
     "data": {
      "text/plain": [
       "Index(['id', 'name', 'host_id', 'host_name', 'neighbourhood', 'latitude',\n",
       "       'longitude', 'room_type', 'price', 'minimum_nights',\n",
       "       'number_of_reviews', 'last_review', 'reviews_per_month',\n",
       "       'calculated_host_listings_count', 'availability_365',\n",
       "       'vizinhanca_grupo', 'vizinhanca'],\n",
       "      dtype='object')"
      ]
     },
     "execution_count": 17,
     "metadata": {},
     "output_type": "execute_result"
    }
   ],
   "source": [
    "#colunas existentes\n",
    "df_join.columns"
   ]
  },
  {
   "cell_type": "code",
   "execution_count": 18,
   "id": "6a7a4f60",
   "metadata": {},
   "outputs": [],
   "source": [
    "#remover coluna 'vizinhanca'\n",
    "df_join.drop(columns=['vizinhanca'], inplace=True)"
   ]
  },
  {
   "cell_type": "code",
   "execution_count": 19,
   "id": "25a4bceb",
   "metadata": {},
   "outputs": [
    {
     "data": {
      "text/plain": [
       "Index(['id', 'name', 'host_id', 'host_name', 'neighbourhood', 'latitude',\n",
       "       'longitude', 'room_type', 'price', 'minimum_nights',\n",
       "       'number_of_reviews', 'last_review', 'reviews_per_month',\n",
       "       'calculated_host_listings_count', 'availability_365',\n",
       "       'vizinhanca_grupo'],\n",
       "      dtype='object')"
      ]
     },
     "execution_count": 19,
     "metadata": {},
     "output_type": "execute_result"
    }
   ],
   "source": [
    "#colunas existentes\n",
    "df_join.columns"
   ]
  },
  {
   "cell_type": "markdown",
   "id": "1a3ef83c",
   "metadata": {},
   "source": [
    "Trocar o nome da coluna de **vizinhanca_grupo** para **neighbourhood_group**"
   ]
  },
  {
   "cell_type": "code",
   "execution_count": 20,
   "id": "20854e32",
   "metadata": {},
   "outputs": [
    {
     "data": {
      "text/plain": [
       "Index(['id', 'name', 'host_id', 'host_name', 'neighbourhood', 'latitude',\n",
       "       'longitude', 'room_type', 'price', 'minimum_nights',\n",
       "       'number_of_reviews', 'last_review', 'reviews_per_month',\n",
       "       'calculated_host_listings_count', 'availability_365',\n",
       "       'vizinhanca_grupo'],\n",
       "      dtype='object')"
      ]
     },
     "execution_count": 20,
     "metadata": {},
     "output_type": "execute_result"
    }
   ],
   "source": [
    "#colunas existentes\n",
    "df_join.columns"
   ]
  },
  {
   "cell_type": "code",
   "execution_count": 21,
   "id": "206e6faa",
   "metadata": {},
   "outputs": [],
   "source": [
    "#renomear coluna 'vizinhanca_grupo' para 'neighbourhood_group'\n",
    "df_join.rename(columns={'vizinhanca_grupo':'neighbourhood_group'}, inplace=True)"
   ]
  },
  {
   "cell_type": "code",
   "execution_count": 22,
   "id": "5b682b55",
   "metadata": {},
   "outputs": [
    {
     "data": {
      "text/plain": [
       "Index(['id', 'name', 'host_id', 'host_name', 'neighbourhood', 'latitude',\n",
       "       'longitude', 'room_type', 'price', 'minimum_nights',\n",
       "       'number_of_reviews', 'last_review', 'reviews_per_month',\n",
       "       'calculated_host_listings_count', 'availability_365',\n",
       "       'neighbourhood_group'],\n",
       "      dtype='object')"
      ]
     },
     "execution_count": 22,
     "metadata": {},
     "output_type": "execute_result"
    }
   ],
   "source": [
    "#colunas existentes\n",
    "df_join.columns"
   ]
  },
  {
   "cell_type": "markdown",
   "id": "701ca75e",
   "metadata": {},
   "source": [
    "### Filtrar registros, exportar bases"
   ]
  },
  {
   "cell_type": "markdown",
   "id": "697ed535",
   "metadata": {},
   "source": [
    "Filtre a coluna **neighbourhood_group** e mantenha apenas os valores **'Brooklyn'**, **'Manhattan'**, **'Queens'**, **'Staten Island'**"
   ]
  },
  {
   "cell_type": "code",
   "execution_count": 23,
   "id": "d115991e",
   "metadata": {},
   "outputs": [
    {
     "data": {
      "text/plain": [
       "0             Brooklyn\n",
       "140          Manhattan\n",
       "24272           Queens\n",
       "29923    Staten Island\n",
       "29958            Bronx\n",
       "Name: neighbourhood_group, dtype: object"
      ]
     },
     "execution_count": 23,
     "metadata": {},
     "output_type": "execute_result"
    }
   ],
   "source": [
    "#valores de neighbourhood_group existentes\n",
    "df_join['neighbourhood_group'].drop_duplicates()"
   ]
  },
  {
   "cell_type": "code",
   "execution_count": 24,
   "id": "6c5fed54",
   "metadata": {},
   "outputs": [],
   "source": [
    "#filtro de valores em neighbourhood_group\n",
    "filtro = df_join['neighbourhood_group'].isin(['Brooklyn','Manhattan','Queens','Staten Island'])"
   ]
  },
  {
   "cell_type": "code",
   "execution_count": 25,
   "id": "3fe0995f",
   "metadata": {},
   "outputs": [
    {
     "data": {
      "text/plain": [
       "0        True\n",
       "1        True\n",
       "2        True\n",
       "3        True\n",
       "4        True\n",
       "         ... \n",
       "38816    True\n",
       "38817    True\n",
       "38818    True\n",
       "38819    True\n",
       "38820    True\n",
       "Name: neighbourhood_group, Length: 38821, dtype: bool"
      ]
     },
     "execution_count": 25,
     "metadata": {},
     "output_type": "execute_result"
    }
   ],
   "source": [
    "filtro"
   ]
  },
  {
   "cell_type": "code",
   "execution_count": 26,
   "id": "a510c672",
   "metadata": {},
   "outputs": [],
   "source": [
    "#criar um DataFrame somente com os valores filtrados\n",
    "df_filtrados = df_join.loc[filtro]"
   ]
  },
  {
   "cell_type": "code",
   "execution_count": 27,
   "id": "7921a4ec",
   "metadata": {},
   "outputs": [
    {
     "data": {
      "text/plain": [
       "0             Brooklyn\n",
       "140          Manhattan\n",
       "24272           Queens\n",
       "29923    Staten Island\n",
       "Name: neighbourhood_group, dtype: object"
      ]
     },
     "execution_count": 27,
     "metadata": {},
     "output_type": "execute_result"
    }
   ],
   "source": [
    "#verificar valores em 'neighbourhood_group'\n",
    "df_filtrados['neighbourhood_group'].drop_duplicates()"
   ]
  },
  {
   "cell_type": "markdown",
   "id": "72912ea6",
   "metadata": {},
   "source": [
    "Após todos os filtros mencionados acima, gere uma base chamada **residencias.csv**"
   ]
  },
  {
   "cell_type": "code",
   "execution_count": 28,
   "id": "90a3216e",
   "metadata": {},
   "outputs": [],
   "source": [
    "#gerar base 'residencias.csv'\n",
    "df_filtrados.to_csv('residencias.csv', index=False)"
   ]
  },
  {
   "cell_type": "code",
   "execution_count": 29,
   "id": "c734bb67",
   "metadata": {},
   "outputs": [
    {
     "data": {
      "text/html": [
       "<div>\n",
       "<style scoped>\n",
       "    .dataframe tbody tr th:only-of-type {\n",
       "        vertical-align: middle;\n",
       "    }\n",
       "\n",
       "    .dataframe tbody tr th {\n",
       "        vertical-align: top;\n",
       "    }\n",
       "\n",
       "    .dataframe thead th {\n",
       "        text-align: right;\n",
       "    }\n",
       "</style>\n",
       "<table border=\"1\" class=\"dataframe\">\n",
       "  <thead>\n",
       "    <tr style=\"text-align: right;\">\n",
       "      <th></th>\n",
       "      <th>id</th>\n",
       "      <th>name</th>\n",
       "      <th>host_id</th>\n",
       "      <th>host_name</th>\n",
       "      <th>neighbourhood</th>\n",
       "      <th>latitude</th>\n",
       "      <th>longitude</th>\n",
       "      <th>room_type</th>\n",
       "      <th>price</th>\n",
       "      <th>minimum_nights</th>\n",
       "      <th>number_of_reviews</th>\n",
       "      <th>last_review</th>\n",
       "      <th>reviews_per_month</th>\n",
       "      <th>calculated_host_listings_count</th>\n",
       "      <th>availability_365</th>\n",
       "      <th>neighbourhood_group</th>\n",
       "    </tr>\n",
       "  </thead>\n",
       "  <tbody>\n",
       "    <tr>\n",
       "      <th>0</th>\n",
       "      <td>2539</td>\n",
       "      <td>Clean &amp; quiet apt home by the park</td>\n",
       "      <td>2787</td>\n",
       "      <td>John</td>\n",
       "      <td>Kensington</td>\n",
       "      <td>40.64749</td>\n",
       "      <td>-73.97237</td>\n",
       "      <td>Private room</td>\n",
       "      <td>149</td>\n",
       "      <td>1</td>\n",
       "      <td>9</td>\n",
       "      <td>2018-10-19</td>\n",
       "      <td>0.21</td>\n",
       "      <td>6</td>\n",
       "      <td>365</td>\n",
       "      <td>Brooklyn</td>\n",
       "    </tr>\n",
       "    <tr>\n",
       "      <th>1</th>\n",
       "      <td>63546</td>\n",
       "      <td>Large and Cozy Private Bedroom</td>\n",
       "      <td>308652</td>\n",
       "      <td>Antonín</td>\n",
       "      <td>Kensington</td>\n",
       "      <td>40.64106</td>\n",
       "      <td>-73.97426</td>\n",
       "      <td>Private room</td>\n",
       "      <td>39</td>\n",
       "      <td>1</td>\n",
       "      <td>45</td>\n",
       "      <td>2019-05-16</td>\n",
       "      <td>0.46</td>\n",
       "      <td>2</td>\n",
       "      <td>365</td>\n",
       "      <td>Brooklyn</td>\n",
       "    </tr>\n",
       "    <tr>\n",
       "      <th>2</th>\n",
       "      <td>125594</td>\n",
       "      <td>SUPER BIG AND COZY PRIVATE BEDROOM</td>\n",
       "      <td>308652</td>\n",
       "      <td>Antonín</td>\n",
       "      <td>Kensington</td>\n",
       "      <td>40.64302</td>\n",
       "      <td>-73.97255</td>\n",
       "      <td>Private room</td>\n",
       "      <td>39</td>\n",
       "      <td>1</td>\n",
       "      <td>82</td>\n",
       "      <td>2019-05-19</td>\n",
       "      <td>0.94</td>\n",
       "      <td>2</td>\n",
       "      <td>365</td>\n",
       "      <td>Brooklyn</td>\n",
       "    </tr>\n",
       "    <tr>\n",
       "      <th>3</th>\n",
       "      <td>267652</td>\n",
       "      <td>Private clean pleasant spacious room.</td>\n",
       "      <td>164675</td>\n",
       "      <td>Janice</td>\n",
       "      <td>Kensington</td>\n",
       "      <td>40.64277</td>\n",
       "      <td>-73.97296</td>\n",
       "      <td>Private room</td>\n",
       "      <td>60</td>\n",
       "      <td>2</td>\n",
       "      <td>20</td>\n",
       "      <td>2019-01-21</td>\n",
       "      <td>0.42</td>\n",
       "      <td>1</td>\n",
       "      <td>347</td>\n",
       "      <td>Brooklyn</td>\n",
       "    </tr>\n",
       "    <tr>\n",
       "      <th>4</th>\n",
       "      <td>282341</td>\n",
       "      <td>Kensington/Ditmas Park pied-a-terre</td>\n",
       "      <td>1471384</td>\n",
       "      <td>Dan</td>\n",
       "      <td>Kensington</td>\n",
       "      <td>40.64330</td>\n",
       "      <td>-73.97386</td>\n",
       "      <td>Entire home/apt</td>\n",
       "      <td>90</td>\n",
       "      <td>30</td>\n",
       "      <td>3</td>\n",
       "      <td>2017-07-30</td>\n",
       "      <td>0.05</td>\n",
       "      <td>1</td>\n",
       "      <td>286</td>\n",
       "      <td>Brooklyn</td>\n",
       "    </tr>\n",
       "  </tbody>\n",
       "</table>\n",
       "</div>"
      ],
      "text/plain": [
       "       id                                   name  host_id host_name  \\\n",
       "0    2539     Clean & quiet apt home by the park     2787      John   \n",
       "1   63546         Large and Cozy Private Bedroom   308652   Antonín   \n",
       "2  125594     SUPER BIG AND COZY PRIVATE BEDROOM   308652   Antonín   \n",
       "3  267652  Private clean pleasant spacious room.   164675    Janice   \n",
       "4  282341    Kensington/Ditmas Park pied-a-terre  1471384       Dan   \n",
       "\n",
       "  neighbourhood  latitude  longitude        room_type  price  minimum_nights  \\\n",
       "0    Kensington  40.64749  -73.97237     Private room    149               1   \n",
       "1    Kensington  40.64106  -73.97426     Private room     39               1   \n",
       "2    Kensington  40.64302  -73.97255     Private room     39               1   \n",
       "3    Kensington  40.64277  -73.97296     Private room     60               2   \n",
       "4    Kensington  40.64330  -73.97386  Entire home/apt     90              30   \n",
       "\n",
       "   number_of_reviews last_review  reviews_per_month  \\\n",
       "0                  9  2018-10-19               0.21   \n",
       "1                 45  2019-05-16               0.46   \n",
       "2                 82  2019-05-19               0.94   \n",
       "3                 20  2019-01-21               0.42   \n",
       "4                  3  2017-07-30               0.05   \n",
       "\n",
       "   calculated_host_listings_count  availability_365 neighbourhood_group  \n",
       "0                               6               365            Brooklyn  \n",
       "1                               2               365            Brooklyn  \n",
       "2                               2               365            Brooklyn  \n",
       "3                               1               347            Brooklyn  \n",
       "4                               1               286            Brooklyn  "
      ]
     },
     "execution_count": 29,
     "metadata": {},
     "output_type": "execute_result"
    }
   ],
   "source": [
    "#criar um dataframe a partir da base 'residencias.csv'\n",
    "df_residencias = pd.read_csv('residencias.csv')\n",
    "df_residencias.head()"
   ]
  },
  {
   "cell_type": "markdown",
   "id": "4ed3411f",
   "metadata": {},
   "source": [
    "A partir da base **residencias.csv**, gere também uma base **media_preco.csv** com a média de preços por tipo de quarto (coluna room_type) e grupo do bairro (coluna neighbourhood_group)"
   ]
  },
  {
   "cell_type": "code",
   "execution_count": 30,
   "id": "33ab89cb",
   "metadata": {},
   "outputs": [],
   "source": [
    "df_media_preco = df_residencias[['neighbourhood_group','room_type','price']].groupby(['neighbourhood_group','room_type'], as_index=False).mean()"
   ]
  },
  {
   "cell_type": "code",
   "execution_count": 31,
   "id": "26c50d66",
   "metadata": {},
   "outputs": [
    {
     "data": {
      "text/html": [
       "<div>\n",
       "<style scoped>\n",
       "    .dataframe tbody tr th:only-of-type {\n",
       "        vertical-align: middle;\n",
       "    }\n",
       "\n",
       "    .dataframe tbody tr th {\n",
       "        vertical-align: top;\n",
       "    }\n",
       "\n",
       "    .dataframe thead th {\n",
       "        text-align: right;\n",
       "    }\n",
       "</style>\n",
       "<table border=\"1\" class=\"dataframe\">\n",
       "  <thead>\n",
       "    <tr style=\"text-align: right;\">\n",
       "      <th></th>\n",
       "      <th>neighbourhood_group</th>\n",
       "      <th>room_type</th>\n",
       "      <th>price</th>\n",
       "    </tr>\n",
       "  </thead>\n",
       "  <tbody>\n",
       "    <tr>\n",
       "      <th>0</th>\n",
       "      <td>Brooklyn</td>\n",
       "      <td>Entire home/apt</td>\n",
       "      <td>171.281897</td>\n",
       "    </tr>\n",
       "    <tr>\n",
       "      <th>1</th>\n",
       "      <td>Brooklyn</td>\n",
       "      <td>Private room</td>\n",
       "      <td>73.349562</td>\n",
       "    </tr>\n",
       "    <tr>\n",
       "      <th>2</th>\n",
       "      <td>Brooklyn</td>\n",
       "      <td>Shared room</td>\n",
       "      <td>45.458621</td>\n",
       "    </tr>\n",
       "    <tr>\n",
       "      <th>3</th>\n",
       "      <td>Manhattan</td>\n",
       "      <td>Entire home/apt</td>\n",
       "      <td>230.200964</td>\n",
       "    </tr>\n",
       "    <tr>\n",
       "      <th>4</th>\n",
       "      <td>Manhattan</td>\n",
       "      <td>Private room</td>\n",
       "      <td>106.607488</td>\n",
       "    </tr>\n",
       "    <tr>\n",
       "      <th>5</th>\n",
       "      <td>Manhattan</td>\n",
       "      <td>Shared room</td>\n",
       "      <td>77.980337</td>\n",
       "    </tr>\n",
       "    <tr>\n",
       "      <th>6</th>\n",
       "      <td>Queens</td>\n",
       "      <td>Entire home/apt</td>\n",
       "      <td>139.225603</td>\n",
       "    </tr>\n",
       "    <tr>\n",
       "      <th>7</th>\n",
       "      <td>Queens</td>\n",
       "      <td>Private room</td>\n",
       "      <td>69.302838</td>\n",
       "    </tr>\n",
       "    <tr>\n",
       "      <th>8</th>\n",
       "      <td>Queens</td>\n",
       "      <td>Shared room</td>\n",
       "      <td>64.467105</td>\n",
       "    </tr>\n",
       "    <tr>\n",
       "      <th>9</th>\n",
       "      <td>Staten Island</td>\n",
       "      <td>Entire home/apt</td>\n",
       "      <td>125.366667</td>\n",
       "    </tr>\n",
       "    <tr>\n",
       "      <th>10</th>\n",
       "      <td>Staten Island</td>\n",
       "      <td>Private room</td>\n",
       "      <td>57.584906</td>\n",
       "    </tr>\n",
       "    <tr>\n",
       "      <th>11</th>\n",
       "      <td>Staten Island</td>\n",
       "      <td>Shared room</td>\n",
       "      <td>57.600000</td>\n",
       "    </tr>\n",
       "  </tbody>\n",
       "</table>\n",
       "</div>"
      ],
      "text/plain": [
       "   neighbourhood_group        room_type       price\n",
       "0             Brooklyn  Entire home/apt  171.281897\n",
       "1             Brooklyn     Private room   73.349562\n",
       "2             Brooklyn      Shared room   45.458621\n",
       "3            Manhattan  Entire home/apt  230.200964\n",
       "4            Manhattan     Private room  106.607488\n",
       "5            Manhattan      Shared room   77.980337\n",
       "6               Queens  Entire home/apt  139.225603\n",
       "7               Queens     Private room   69.302838\n",
       "8               Queens      Shared room   64.467105\n",
       "9        Staten Island  Entire home/apt  125.366667\n",
       "10       Staten Island     Private room   57.584906\n",
       "11       Staten Island      Shared room   57.600000"
      ]
     },
     "execution_count": 31,
     "metadata": {},
     "output_type": "execute_result"
    }
   ],
   "source": [
    "df_media_preco"
   ]
  },
  {
   "cell_type": "code",
   "execution_count": 32,
   "id": "a389f86d",
   "metadata": {},
   "outputs": [],
   "source": [
    "#criar a base 'media_preco.csv'\n",
    "df_media_preco.to_csv('media_preco.csv', index=False)"
   ]
  },
  {
   "cell_type": "code",
   "execution_count": 33,
   "id": "c435d7cf",
   "metadata": {},
   "outputs": [
    {
     "data": {
      "text/html": [
       "<div>\n",
       "<style scoped>\n",
       "    .dataframe tbody tr th:only-of-type {\n",
       "        vertical-align: middle;\n",
       "    }\n",
       "\n",
       "    .dataframe tbody tr th {\n",
       "        vertical-align: top;\n",
       "    }\n",
       "\n",
       "    .dataframe thead th {\n",
       "        text-align: right;\n",
       "    }\n",
       "</style>\n",
       "<table border=\"1\" class=\"dataframe\">\n",
       "  <thead>\n",
       "    <tr style=\"text-align: right;\">\n",
       "      <th></th>\n",
       "      <th>neighbourhood_group</th>\n",
       "      <th>room_type</th>\n",
       "      <th>price</th>\n",
       "    </tr>\n",
       "  </thead>\n",
       "  <tbody>\n",
       "    <tr>\n",
       "      <th>0</th>\n",
       "      <td>Brooklyn</td>\n",
       "      <td>Entire home/apt</td>\n",
       "      <td>171.281897</td>\n",
       "    </tr>\n",
       "    <tr>\n",
       "      <th>1</th>\n",
       "      <td>Brooklyn</td>\n",
       "      <td>Private room</td>\n",
       "      <td>73.349562</td>\n",
       "    </tr>\n",
       "    <tr>\n",
       "      <th>2</th>\n",
       "      <td>Brooklyn</td>\n",
       "      <td>Shared room</td>\n",
       "      <td>45.458621</td>\n",
       "    </tr>\n",
       "    <tr>\n",
       "      <th>3</th>\n",
       "      <td>Manhattan</td>\n",
       "      <td>Entire home/apt</td>\n",
       "      <td>230.200964</td>\n",
       "    </tr>\n",
       "    <tr>\n",
       "      <th>4</th>\n",
       "      <td>Manhattan</td>\n",
       "      <td>Private room</td>\n",
       "      <td>106.607488</td>\n",
       "    </tr>\n",
       "    <tr>\n",
       "      <th>5</th>\n",
       "      <td>Manhattan</td>\n",
       "      <td>Shared room</td>\n",
       "      <td>77.980337</td>\n",
       "    </tr>\n",
       "    <tr>\n",
       "      <th>6</th>\n",
       "      <td>Queens</td>\n",
       "      <td>Entire home/apt</td>\n",
       "      <td>139.225603</td>\n",
       "    </tr>\n",
       "    <tr>\n",
       "      <th>7</th>\n",
       "      <td>Queens</td>\n",
       "      <td>Private room</td>\n",
       "      <td>69.302838</td>\n",
       "    </tr>\n",
       "    <tr>\n",
       "      <th>8</th>\n",
       "      <td>Queens</td>\n",
       "      <td>Shared room</td>\n",
       "      <td>64.467105</td>\n",
       "    </tr>\n",
       "    <tr>\n",
       "      <th>9</th>\n",
       "      <td>Staten Island</td>\n",
       "      <td>Entire home/apt</td>\n",
       "      <td>125.366667</td>\n",
       "    </tr>\n",
       "    <tr>\n",
       "      <th>10</th>\n",
       "      <td>Staten Island</td>\n",
       "      <td>Private room</td>\n",
       "      <td>57.584906</td>\n",
       "    </tr>\n",
       "    <tr>\n",
       "      <th>11</th>\n",
       "      <td>Staten Island</td>\n",
       "      <td>Shared room</td>\n",
       "      <td>57.600000</td>\n",
       "    </tr>\n",
       "  </tbody>\n",
       "</table>\n",
       "</div>"
      ],
      "text/plain": [
       "   neighbourhood_group        room_type       price\n",
       "0             Brooklyn  Entire home/apt  171.281897\n",
       "1             Brooklyn     Private room   73.349562\n",
       "2             Brooklyn      Shared room   45.458621\n",
       "3            Manhattan  Entire home/apt  230.200964\n",
       "4            Manhattan     Private room  106.607488\n",
       "5            Manhattan      Shared room   77.980337\n",
       "6               Queens  Entire home/apt  139.225603\n",
       "7               Queens     Private room   69.302838\n",
       "8               Queens      Shared room   64.467105\n",
       "9        Staten Island  Entire home/apt  125.366667\n",
       "10       Staten Island     Private room   57.584906\n",
       "11       Staten Island      Shared room   57.600000"
      ]
     },
     "execution_count": 33,
     "metadata": {},
     "output_type": "execute_result"
    }
   ],
   "source": [
    "#obter o DataFrame da base \n",
    "pd.read_csv('media_preco.csv')"
   ]
  },
  {
   "cell_type": "code",
   "execution_count": null,
   "id": "fa260b8f",
   "metadata": {},
   "outputs": [],
   "source": []
  }
 ],
 "metadata": {
  "kernelspec": {
   "display_name": "Python 3 (ipykernel)",
   "language": "python",
   "name": "python3"
  },
  "language_info": {
   "codemirror_mode": {
    "name": "ipython",
    "version": 3
   },
   "file_extension": ".py",
   "mimetype": "text/x-python",
   "name": "python",
   "nbconvert_exporter": "python",
   "pygments_lexer": "ipython3",
   "version": "3.8.12"
  }
 },
 "nbformat": 4,
 "nbformat_minor": 5
}
